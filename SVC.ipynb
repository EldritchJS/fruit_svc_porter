{
 "cells": [
  {
   "cell_type": "code",
   "execution_count": 1,
   "id": "ee9e54c4",
   "metadata": {},
   "outputs": [],
   "source": [
    "import numpy as np\n",
    "import cv2\n",
    "import os\n",
    "from sklearn import svm"
   ]
  },
  {
   "cell_type": "markdown",
   "id": "c74e9a46",
   "metadata": {},
   "source": [
    "### Parameters"
   ]
  },
  {
   "cell_type": "code",
   "execution_count": 2,
   "id": "a29a484b",
   "metadata": {},
   "outputs": [],
   "source": [
    "orange_training_dir = 'Training/Orange'\n",
    "apple_training_dir = 'Training/Apple Red 1'\n",
    "orange_testing_dir = 'Test/Orange'\n",
    "apple_testing_dir = 'Test/Apple Red 1'"
   ]
  },
  {
   "cell_type": "markdown",
   "id": "08fa4048",
   "metadata": {},
   "source": [
    "### Extract features from training data"
   ]
  },
  {
   "cell_type": "code",
   "execution_count": 3,
   "id": "7c5f206b",
   "metadata": {},
   "outputs": [],
   "source": [
    "XTrain = np.empty(3)\n",
    "yTrain = int(np.empty(1))\n",
    "\n",
    "\n",
    "for root, dirs, files in os.walk(orange_training_dir):\n",
    "    dirs.sort()\n",
    "    for filename in sorted(files):\n",
    "        imagefilename = os.path.join(root, filename)\n",
    "        image = cv2.imread(imagefilename)\n",
    "        features = np.mean(np.mean(image, axis=0), axis=0)\n",
    "        XTrain = np.vstack([XTrain, features])\n",
    "        yTrain = np.hstack([yTrain, 0])\n",
    "        \n",
    "for root, dirs, files in os.walk(apple_training_dir):\n",
    "    dirs.sort()\n",
    "    for filename in sorted(files):\n",
    "        imagefilename = os.path.join(root, filename)\n",
    "        image = cv2.imread(imagefilename)\n",
    "        features = np.mean(np.mean(image, axis=0), axis=0)\n",
    "        XTrain = np.vstack([XTrain, features])\n",
    "        yTrain = np.hstack([yTrain, 1])       "
   ]
  },
  {
   "cell_type": "markdown",
   "id": "b539101a",
   "metadata": {},
   "source": [
    "### Extract features from test data"
   ]
  },
  {
   "cell_type": "code",
   "execution_count": 4,
   "id": "be1b5b39",
   "metadata": {},
   "outputs": [],
   "source": [
    "XTest = np.empty(3)\n",
    "yTest = int(np.empty(1))\n",
    "\n",
    "for root, dirs, files in os.walk(orange_testing_dir):\n",
    "    dirs.sort()\n",
    "    for filename in sorted(files):\n",
    "        imagefilename = os.path.join(root, filename)\n",
    "        image = cv2.imread(imagefilename)\n",
    "        features = np.mean(np.mean(image, axis=0), axis=0)        \n",
    "        XTest = np.vstack([XTest, features])\n",
    "        yTest = np.hstack([yTest, 0])\n",
    "        \n",
    "        \n",
    "for root, dirs, files in os.walk(apple_testing_dir):\n",
    "    dirs.sort()\n",
    "    for filename in sorted(files):\n",
    "        imagefilename = os.path.join(root, filename)\n",
    "        image = cv2.imread(imagefilename)\n",
    "        features = np.mean(np.mean(image, axis=0), axis=0)        \n",
    "        XTest = np.vstack([XTest, features])\n",
    "        yTest = np.hstack([yTest, 1])           "
   ]
  },
  {
   "cell_type": "markdown",
   "id": "49ca3b8b",
   "metadata": {},
   "source": [
    "### Train and test model"
   ]
  },
  {
   "cell_type": "code",
   "execution_count": 5,
   "id": "9b6d5661",
   "metadata": {},
   "outputs": [
    {
     "data": {
      "text/plain": [
       "0.9969230769230769"
      ]
     },
     "execution_count": 5,
     "metadata": {},
     "output_type": "execute_result"
    }
   ],
   "source": [
    "# Train model\n",
    "clf = svm.LinearSVC(C=1.)\n",
    "clf.fit(XTrain/255, yTrain)\n",
    "\n",
    "# Test model\n",
    "clf.score(XTest/255, yTest)"
   ]
  },
  {
   "cell_type": "markdown",
   "id": "9c7f4075",
   "metadata": {},
   "source": [
    "### Generate C code for prediction/inference"
   ]
  },
  {
   "cell_type": "code",
   "execution_count": 6,
   "id": "d2248f2b",
   "metadata": {},
   "outputs": [
    {
     "name": "stdout",
     "output_type": "stream",
     "text": [
      "#include <stdlib.h>\n",
      "#include <stdio.h>\n",
      "#include <math.h>\n",
      "\n",
      "double coefficients[3] = {12.445481864888215, -5.805616230442312, -1.857350543112634};\n",
      "double intercepts = -0.4491484726537361;\n",
      "\n",
      "int predict (float features[]) {\n",
      "    int i, l;\n",
      "    double prob = 0.;\n",
      "    for (i = 0, l = sizeof(coefficients) / sizeof (coefficients[0]); i < l; i++) {\n",
      "        prob += coefficients[i] * features[i];\n",
      "    }\n",
      "    if (prob + intercepts > 0) {\n",
      "        return 1;\n",
      "    }\n",
      "    return 0;\n",
      "}\n",
      "\n",
      "int main(int argc, const char * argv[]) {\n",
      "\n",
      "    /* Features: */\n",
      "    float features[argc-1];\n",
      "    int i;\n",
      "    for (i = 1; i < argc; i++) {\n",
      "        features[i-1] = atof(argv[i]);\n",
      "    }\n",
      "\n",
      "    /* Prediction: */\n",
      "    printf(\"%d\", predict(features));\n",
      "    return 0;\n",
      "\n",
      "}\n"
     ]
    }
   ],
   "source": [
    "from sklearn_porter import Porter\n",
    "\n",
    "porter = Porter(clf, language='c')\n",
    "output = porter.export()\n",
    "\n",
    "print(output)"
   ]
  },
  {
   "cell_type": "code",
   "execution_count": null,
   "id": "96723537",
   "metadata": {},
   "outputs": [],
   "source": []
  }
 ],
 "metadata": {
  "kernelspec": {
   "display_name": "Python 3 (ipykernel)",
   "language": "python",
   "name": "python3"
  },
  "language_info": {
   "codemirror_mode": {
    "name": "ipython",
    "version": 3
   },
   "file_extension": ".py",
   "mimetype": "text/x-python",
   "name": "python",
   "nbconvert_exporter": "python",
   "pygments_lexer": "ipython3",
   "version": "3.8.10"
  }
 },
 "nbformat": 4,
 "nbformat_minor": 5
}
