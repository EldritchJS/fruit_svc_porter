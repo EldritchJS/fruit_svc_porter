{
 "cells": [
  {
   "cell_type": "code",
   "execution_count": null,
   "id": "ee9e54c4",
   "metadata": {},
   "outputs": [],
   "source": [
    "import numpy as np\n",
    "import cv2\n",
    "import os\n",
    "from sklearn import svm\n",
    "from sklearn.preprocessing import MinMaxScaler\n"
   ]
  },
  {
   "cell_type": "markdown",
   "id": "08fa4048",
   "metadata": {},
   "source": [
    "### Extract features from training data"
   ]
  },
  {
   "cell_type": "code",
   "execution_count": null,
   "id": "7c5f206b",
   "metadata": {},
   "outputs": [],
   "source": [
    "for root, dirs, files in os.walk('Training/Orange'):\n",
    "    dirs.sort()\n",
    "    for filename in sorted(files):\n",
    "        imagefilename = os.path.join(root, filename)\n",
    "        image = cv2.imread(imagefilename)\n",
    "        features = hog(image, orientations=9, pixels_per_cell=(8,8), cells_per_block=(2,2), multichannel=True)\n",
    "        X = np.vstack([X, features])\n",
    "        y = np.hstack([y, 0])\n",
    "        \n",
    "for root, dirs, files in os.walk('Training/Apple Red 1'):\n",
    "    dirs.sort()\n",
    "    for filename in sorted(files):\n",
    "        imagefilename = os.path.join(root, filename)\n",
    "        image = cv2.imread(imagefilename)\n",
    "        features = hog(image, orientations=9, pixels_per_cell=(8,8), cells_per_block=(2,2), multichannel=True)\n",
    "        X = np.vstack([X, features])\n",
    "        y = np.hstack([y, 1])        \n",
    "\n",
    "        \n",
    "#  Normalize the features using minmax\n",
    "scaler = MinMaxScaler()\n",
    "scaler.fit(X)\n",
    "Xnorm = scaler.transform(X)"
   ]
  },
  {
   "cell_type": "markdown",
   "id": "b539101a",
   "metadata": {},
   "source": [
    "### Extract features from test data"
   ]
  },
  {
   "cell_type": "code",
   "execution_count": null,
   "id": "be1b5b39",
   "metadata": {},
   "outputs": [],
   "source": [
    "XTest = np.empty(4356)\n",
    "yTest = int(np.empty(1))\n",
    "\n",
    "for root, dirs, files in os.walk('Test/Orange'):\n",
    "    dirs.sort()\n",
    "    for filename in sorted(files):\n",
    "        imagefilename = os.path.join(root, filename)\n",
    "        image = cv2.imread(imagefilename)\n",
    "        features = hog(image, orientations=9, pixels_per_cell=(8,8), cells_per_block=(2,2), multichannel=True)\n",
    "        XTest = np.vstack([XTest, features])\n",
    "        yTest = np.hstack([yTest, 0])\n",
    "        \n",
    "for root, dirs, files in os.walk('Test/Apple Red 1'):\n",
    "    dirs.sort()\n",
    "    for filename in sorted(files):\n",
    "        imagefilename = os.path.join(root, filename)\n",
    "        image = cv2.imread(imagefilename)\n",
    "        features = hog(image, orientations=9, pixels_per_cell=(8,8), cells_per_block=(2,2), multichannel=True)\n",
    "        XTest = np.vstack([XTest, features])\n",
    "        yTest = np.hstack([yTest, 1])           \n",
    "        \n",
    "#  Normalize the features using minmax\n",
    "scalerTest = MinMaxScaler()\n",
    "scalerTest.fit(XTest)\n",
    "XTestNorm = scalerTest.transform(XTest)\n",
    "\n"
   ]
  },
  {
   "cell_type": "markdown",
   "id": "49ca3b8b",
   "metadata": {},
   "source": [
    "### Train and test model"
   ]
  },
  {
   "cell_type": "code",
   "execution_count": null,
   "id": "9b6d5661",
   "metadata": {},
   "outputs": [],
   "source": [
    "# Train model\n",
    "clf = svm.LinearSVC(C=1.)\n",
    "clf.fit(Xnorm, y)\n",
    "\n",
    "# Test model\n",
    "clf.score(XTestNorm, yTest)"
   ]
  },
  {
   "cell_type": "markdown",
   "id": "9c7f4075",
   "metadata": {},
   "source": [
    "### Generate C code for prediction/inference"
   ]
  },
  {
   "cell_type": "code",
   "execution_count": null,
   "id": "d2248f2b",
   "metadata": {},
   "outputs": [],
   "source": [
    "from sklearn_porter import Porter\n",
    "\n",
    "porter = Porter(clf, language='c')\n",
    "output = porter.export()\n",
    "\n",
    "print(output)"
   ]
  }
 ],
 "metadata": {
  "kernelspec": {
   "display_name": "Python 3 (ipykernel)",
   "language": "python",
   "name": "python3"
  },
  "language_info": {
   "codemirror_mode": {
    "name": "ipython",
    "version": 3
   },
   "file_extension": ".py",
   "mimetype": "text/x-python",
   "name": "python",
   "nbconvert_exporter": "python",
   "pygments_lexer": "ipython3",
   "version": "3.9.5"
  }
 },
 "nbformat": 4,
 "nbformat_minor": 5
}
